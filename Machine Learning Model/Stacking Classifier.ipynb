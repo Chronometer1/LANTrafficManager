{
 "cells": [
  {
   "cell_type": "code",
   "execution_count": null,
   "id": "520de960",
   "metadata": {},
   "outputs": [],
   "source": [
    "import pandas as pd\n",
    "import numpy as np\n",
    "from sklearn.preprocessing import StandardScaler\n",
    "from sklearn.ensemble import RandomForestClassifier\n",
    "from sklearn.linear_model import LogisticRegression\n",
    "from sklearn.ensemble import StackingClassifier\n",
    "from sklearn import metrics\n",
    "from sklearn.metrics import confusion_matrix, mean_absolute_error, mean_squared_error, precision_score, recall_score, accuracy_score\n",
    "from category_encoders import TargetEncoder"
   ]
  },
  {
   "cell_type": "code",
   "execution_count": null,
   "id": "ee7ae6e7",
   "metadata": {},
   "outputs": [],
   "source": [
    "train = pd.read_csv(\"C:/Users/brody/OneDrive/Desktop/Capstone Project/UNSW_NB15_training-set.csv\")\n",
    "test = pd.read_csv(\"C:/Users/brody/OneDrive/Desktop/Capstone Project/UNSW_NB15_testing-set.csv\")"
   ]
  },
  {
   "cell_type": "code",
   "execution_count": null,
   "id": "005f727c",
   "metadata": {
    "scrolled": true
   },
   "outputs": [],
   "source": [
    "train = TargetEncoder(cols=['proto', 'service', 'state', 'attack_cat'], smoothing=1.0).fit(train, train['label']).transform(train)\n",
    "test = TargetEncoder(cols=['proto', 'service', 'state', 'attack_cat'], smoothing=1.0).fit(test, test['label']).transform(test)"
   ]
  },
  {
   "cell_type": "code",
   "execution_count": null,
   "id": "7503bede",
   "metadata": {},
   "outputs": [],
   "source": [
    "X_train = train.iloc[:, 1:44].values\n",
    "y_train = train.iloc[:, 44].values"
   ]
  },
  {
   "cell_type": "code",
   "execution_count": null,
   "id": "a0db3fb1",
   "metadata": {},
   "outputs": [],
   "source": [
    "X_test = test.iloc[:, 1:44].values\n",
    "y_test = test.iloc[:, 44].values"
   ]
  },
  {
   "cell_type": "code",
   "execution_count": null,
   "id": "50c59842",
   "metadata": {
    "scrolled": true
   },
   "outputs": [],
   "source": [
    "sc = StandardScaler()\n",
    "X_train = sc.fit_transform(X_train)\n",
    "X_test = sc.transform(X_test)"
   ]
  },
  {
   "cell_type": "code",
   "execution_count": null,
   "id": "dcdbff03",
   "metadata": {},
   "outputs": [],
   "source": [
    "estimators = [\n",
    "    ('rf', RandomForestClassifier(n_estimators=3, random_state=12, max_depth=2)),\n",
    "    ('lg', LogisticRegression())\n",
    "   ]\n",
    "classifierModel = StackingClassifier(estimators=estimators, final_estimator=RandomForestClassifier())\n",
    "classifierModel.fit(X_train, y_train)\n",
    "y_pred = classifierModel.predict(X_test)\n",
    "y_pred_train = classifierModel.predict(X_train)"
   ]
  },
  {
   "cell_type": "code",
   "execution_count": null,
   "id": "c96395af",
   "metadata": {
    "scrolled": false
   },
   "outputs": [],
   "source": [
    "print('Mean Absolute Error:', metrics.mean_absolute_error(y_test, y_pred))\n",
    "print('Mean Squared Error:', metrics.mean_squared_error(y_test, y_pred))\n",
    "print('Root Mean Squared Error:', np.sqrt(metrics.mean_squared_error(y_test, y_pred)))"
   ]
  },
  {
   "cell_type": "code",
   "execution_count": null,
   "id": "88662f8d",
   "metadata": {},
   "outputs": [],
   "source": [
    "print(confusion_matrix(y_test, y_pred))\n",
    "import matplotlib.pyplot as plt\n",
    "import matplotlib.image as mpimg\n",
    "img = mpimg.imread(\"C:/Users/brody/OneDrive/Desktop/Capstone Project/confusion matrix.png\")\n",
    "imgplot = plt.imshow(img)\n",
    "plt.show()"
   ]
  },
  {
   "cell_type": "code",
   "execution_count": null,
   "id": "04386bbc",
   "metadata": {},
   "outputs": [],
   "source": [
    "print('Training Accuracy : ', metrics.accuracy_score(y_train, y_pred_train)*100)\n",
    "print('Validation Accuracy : ', metrics.accuracy_score(y_test, y_pred)*100)\n",
    "print('Precision: %.3f' % precision_score(y_test, y_pred))\n",
    "print('Recall: %.3f' % recall_score(y_test, y_pred))"
   ]
  }
 ],
 "metadata": {
  "kernelspec": {
   "display_name": "Python 3 (ipykernel)",
   "language": "python",
   "name": "python3"
  },
  "language_info": {
   "codemirror_mode": {
    "name": "ipython",
    "version": 3
   },
   "file_extension": ".py",
   "mimetype": "text/x-python",
   "name": "python",
   "nbconvert_exporter": "python",
   "pygments_lexer": "ipython3",
   "version": "3.9.13"
  }
 },
 "nbformat": 4,
 "nbformat_minor": 5
}
