{
 "cells": [
  {
   "cell_type": "code",
   "execution_count": null,
   "id": "520de960",
   "metadata": {},
   "outputs": [],
   "source": [
    "import pandas as pd\n",
    "import numpy as np\n",
    "from sklearn.preprocessing import StandardScaler\n",
    "from sklearn.ensemble import RandomForestClassifier\n",
    "from sklearn import metrics\n",
    "from sklearn.metrics import confusion_matrix, mean_absolute_error, mean_squared_error, precision_score, recall_score, accuracy_score\n",
    "from category_encoders import TargetEncoder"
   ]
  },
  {
   "cell_type": "code",
   "execution_count": null,
   "id": "ee7ae6e7",
   "metadata": {},
   "outputs": [],
   "source": [
    "train = pd.read_csv(\"C:/Users/brody/OneDrive/Desktop/Capstone Project/UNSW_NB15_training-set.csv\")\n",
    "test = pd.read_csv(\"C:/Users/brody/OneDrive/Desktop/Capstone Project/UNSW_NB15_testing-set.csv\")"
   ]
  },
  {
   "cell_type": "code",
   "execution_count": null,
   "id": "005f727c",
   "metadata": {
    "scrolled": true
   },
   "outputs": [],
   "source": [
    "train = TargetEncoder(cols=['proto', 'service', 'state', 'attack_cat'], smoothing=1.0).fit(train, train['label']).transform(train)\n",
    "test = TargetEncoder(cols=['proto', 'service', 'state', 'attack_cat'], smoothing=1.0).fit(test, test['label']).transform(test)"
   ]
  },
  {
   "cell_type": "code",
   "execution_count": null,
   "id": "7503bede",
   "metadata": {},
   "outputs": [],
   "source": [
    "X_train = train.iloc[:, 1:44].values\n",
    "y_train = train.iloc[:, 44].values"
   ]
  },
  {
   "cell_type": "code",
   "execution_count": null,
   "id": "a0db3fb1",
   "metadata": {},
   "outputs": [],
   "source": [
    "X_test = test.iloc[:, 1:44].values\n",
    "y_test = test.iloc[:, 44].values"
   ]
  },
  {
   "cell_type": "code",
   "execution_count": null,
   "id": "50c59842",
   "metadata": {
    "scrolled": true
   },
   "outputs": [],
   "source": [
    "sc = StandardScaler()\n",
    "X_train = sc.fit_transform(X_train)\n",
    "X_test = sc.transform(X_test)"
   ]
  },
  {
   "cell_type": "code",
   "execution_count": null,
   "id": "dcdbff03",
   "metadata": {},
   "outputs": [],
   "source": [
    "forest = RandomForestClassifier(n_estimators=450, max_features=2, random_state=3, max_depth=4, min_samples_leaf=75)\n",
    "forest.fit(X_train, y_train)\n",
    "y_pred = forest.predict(X_test)\n",
    "y_pred_train = forest.predict(X_train)"
   ]
  },
  {
   "cell_type": "code",
   "execution_count": null,
   "id": "8373ca32",
   "metadata": {},
   "outputs": [],
   "source": [
    "count = 0\n",
    "prediction_arr = []\n",
    "for line in X_test:\n",
    "    count += 1\n",
    "    data = np.array([line])\n",
    "    prediction = forest.predict(data)\n",
    "    prediction_arr.append(prediction)\n",
    "    print(count,\": \",prediction)"
   ]
  },
  {
   "cell_type": "code",
   "execution_count": null,
   "id": "f0612460",
   "metadata": {},
   "outputs": [],
   "source": [
    "count_real = 0\n",
    "for line in y_test:\n",
    "    count_real += 1\n",
    "    print(count_real, \": \", line)\n",
    "    \n",
    "print('Validation Accuracy : ', metrics.accuracy_score(y_test, prediction_arr)*100)"
   ]
  },
  {
   "cell_type": "code",
   "execution_count": null,
   "id": "c96395af",
   "metadata": {
    "scrolled": false
   },
   "outputs": [],
   "source": [
    "print('Mean Absolute Error:', metrics.mean_absolute_error(y_test, y_pred))\n",
    "print('Mean Squared Error:', metrics.mean_squared_error(y_test, y_pred))\n",
    "print('Root Mean Squared Error:', np.sqrt(metrics.mean_squared_error(y_test, y_pred)))"
   ]
  },
  {
   "cell_type": "code",
   "execution_count": null,
   "id": "88662f8d",
   "metadata": {},
   "outputs": [],
   "source": [
    "print(confusion_matrix(y_test, y_pred))\n",
    "import matplotlib.pyplot as plt\n",
    "import matplotlib.image as mpimg\n",
    "img = mpimg.imread(\"C:/Users/brody/OneDrive/Desktop/Capstone Project/confusion matrix.png\")\n",
    "imgplot = plt.imshow(img)\n",
    "plt.show()"
   ]
  },
  {
   "cell_type": "code",
   "execution_count": null,
   "id": "04386bbc",
   "metadata": {},
   "outputs": [],
   "source": [
    "print('Training Accuracy : ', metrics.accuracy_score(y_train, y_pred_train)*100)\n",
    "print('Validation Accuracy : ', metrics.accuracy_score(y_test, y_pred)*100)\n",
    "print('Precision: %.3f' % precision_score(y_test, y_pred))\n",
    "print('Recall: %.3f' % recall_score(y_test, y_pred))"
   ]
  }
 ],
 "metadata": {
  "kernelspec": {
   "display_name": "Python 3 (ipykernel)",
   "language": "python",
   "name": "python3"
  },
  "language_info": {
   "codemirror_mode": {
    "name": "ipython",
    "version": 3
   },
   "file_extension": ".py",
   "mimetype": "text/x-python",
   "name": "python",
   "nbconvert_exporter": "python",
   "pygments_lexer": "ipython3",
   "version": "3.9.13"
  }
 },
 "nbformat": 4,
 "nbformat_minor": 5
}
